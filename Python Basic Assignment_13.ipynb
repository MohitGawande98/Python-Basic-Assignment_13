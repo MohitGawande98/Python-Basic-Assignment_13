{
 "cells": [
  {
   "cell_type": "markdown",
   "id": "d82eee92",
   "metadata": {},
   "source": [
    "# Python Basic Assignment_13"
   ]
  },
  {
   "cell_type": "markdown",
   "id": "80b8e8e6",
   "metadata": {},
   "source": [
    "1. What advantages do Excel spreadsheets have over CSV spreadsheets?"
   ]
  },
  {
   "cell_type": "raw",
   "id": "df5a867a",
   "metadata": {},
   "source": [
    "Answer:- \n",
    ">> Excel is more superior when compared with the csv spreadsheets.\n",
    ">> Excel is binary file format that holds information for all workbooks, and it is used in all worksheets.\n",
    ">> Excel is not measure of a store of information only, but also it is tool for a financial analyst to perform a deep analysis of data and numbers. it is not just store of information. on the other hand CSV is only a plain text form of dataset which does not enable to user to perform any deep-dive analysis on the dataset and apply functions.\n",
    ">> Excel can perform VBA coding, function, formulas and create summaries easily as compared to CSV."
   ]
  },
  {
   "cell_type": "markdown",
   "id": "0ec7fae2",
   "metadata": {},
   "source": [
    "2. What do you pass to csv.reader() and csv.writer() to create reader and writer objects?"
   ]
  },
  {
   "cell_type": "raw",
   "id": "3dc80bb8",
   "metadata": {},
   "source": [
    ">> To read the csv file in python, we can use the csv.reader() function.for creating the reader object we have to pass the csv file in the csv.reader(), which returns an iterable reader object. The reader object then iterated using a for loop to print the contents of each row.\n",
    "\n",
    ">> To write to a CSV file in python, we can use the csv.writer() function."
   ]
  },
  {
   "cell_type": "markdown",
   "id": "7bf6fe46",
   "metadata": {},
   "source": [
    "3. What modes do File objects for reader and writer objects need to be opened in?"
   ]
  },
  {
   "cell_type": "raw",
   "id": "1a9345dd",
   "metadata": {},
   "source": [
    ">> In order to open a file for reading or writing purposes, we must use the built-in open() function. The open() function uses two arguments. first is the name of the file and second is for what purpose we want to open it. so we are opened in file objects in open mode."
   ]
  },
  {
   "cell_type": "markdown",
   "id": "2395c290",
   "metadata": {},
   "source": [
    "4. What method takes a list argument and writes it to a CSV file?"
   ]
  },
  {
   "cell_type": "raw",
   "id": "83266c88",
   "metadata": {},
   "source": [
    ">> The csv.writer writerow method takes an iterable as an argument. your result set has to be a list(rows) of lists(columns). Write the row parameter to the writer's file object, formatted according to the current dialect."
   ]
  },
  {
   "cell_type": "markdown",
   "id": "9802d53f",
   "metadata": {},
   "source": [
    "5. What do the keyword arguments delimiter and line terminator do?"
   ]
  },
  {
   "cell_type": "raw",
   "id": "200373ec",
   "metadata": {},
   "source": [
    ">> Delimiter specifies the character used to seperate each field. The default is the comma(',').\n",
    "\n",
    ">> Line terminator is the character that comes at the end of a row. By default, the line terminator is a new line."
   ]
  },
  {
   "cell_type": "markdown",
   "id": "d9625568",
   "metadata": {},
   "source": [
    "6. What function takes a string of JSON data and returns a Python data structure?"
   ]
  },
  {
   "cell_type": "raw",
   "id": "0e335d94",
   "metadata": {},
   "source": [
    ">> loads() method return python data structure of JSON string or data."
   ]
  },
  {
   "cell_type": "markdown",
   "id": "9890bc35",
   "metadata": {},
   "source": [
    "7. What function takes a Python data structure and returns a string of JSON data?"
   ]
  },
  {
   "cell_type": "raw",
   "id": "a9bdfecd",
   "metadata": {},
   "source": [
    "To convert python data structure into string of JSON data we have to used the json.dumps() method. the json.dumps() is a built-in python method that takes a list as an argument and returns json data type."
   ]
  },
  {
   "cell_type": "code",
   "execution_count": null,
   "id": "834cad8c",
   "metadata": {},
   "outputs": [],
   "source": []
  }
 ],
 "metadata": {
  "kernelspec": {
   "display_name": "Python 3",
   "language": "python",
   "name": "python3"
  },
  "language_info": {
   "codemirror_mode": {
    "name": "ipython",
    "version": 3
   },
   "file_extension": ".py",
   "mimetype": "text/x-python",
   "name": "python",
   "nbconvert_exporter": "python",
   "pygments_lexer": "ipython3",
   "version": "3.8.8"
  }
 },
 "nbformat": 4,
 "nbformat_minor": 5
}
